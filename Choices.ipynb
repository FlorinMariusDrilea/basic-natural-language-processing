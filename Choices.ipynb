{
 "cells": [
  {
   "cell_type": "code",
   "execution_count": 3,
   "id": "7696c348",
   "metadata": {},
   "outputs": [],
   "source": [
    "import nltk as nl"
   ]
  },
  {
   "cell_type": "code",
   "execution_count": 4,
   "id": "d20ac69b",
   "metadata": {},
   "outputs": [],
   "source": [
    "stories = nl.corpus.gutenberg.words(\"bryant-stories.txt\")"
   ]
  },
  {
   "cell_type": "code",
   "execution_count": 5,
   "id": "5cbdfe66",
   "metadata": {},
   "outputs": [],
   "source": [
    "tags = nl.pos_tag(stories, tagset=\"universal\")"
   ]
  },
  {
   "cell_type": "code",
   "execution_count": 6,
   "id": "76998dbe",
   "metadata": {},
   "outputs": [
    {
     "data": {
      "text/plain": [
       "[('[', 'NOUN'),\n",
       " ('Stories', 'NOUN'),\n",
       " ('to', 'PRT'),\n",
       " ('Tell', 'VERB'),\n",
       " ('to', 'PRT'),\n",
       " ('Children', 'NOUN'),\n",
       " ('by', 'ADP'),\n",
       " ('Sara', 'NOUN'),\n",
       " ('Cone', 'NOUN'),\n",
       " ('Bryant', 'NOUN')]"
      ]
     },
     "execution_count": 6,
     "metadata": {},
     "output_type": "execute_result"
    }
   ],
   "source": [
    "tags[:10]"
   ]
  },
  {
   "cell_type": "code",
   "execution_count": null,
   "id": "734d5942",
   "metadata": {},
   "outputs": [],
   "source": []
  }
 ],
 "metadata": {
  "kernelspec": {
   "display_name": "Python 3 (ipykernel)",
   "language": "python",
   "name": "python3"
  },
  "language_info": {
   "codemirror_mode": {
    "name": "ipython",
    "version": 3
   },
   "file_extension": ".py",
   "mimetype": "text/x-python",
   "name": "python",
   "nbconvert_exporter": "python",
   "pygments_lexer": "ipython3",
   "version": "3.9.7"
  }
 },
 "nbformat": 4,
 "nbformat_minor": 5
}
