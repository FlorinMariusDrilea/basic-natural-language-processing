{
 "cells": [
  {
   "cell_type": "code",
   "execution_count": 8,
   "id": "19b5d4cf",
   "metadata": {},
   "outputs": [],
   "source": [
    "import nltk as nl"
   ]
  },
  {
   "cell_type": "code",
   "execution_count": 10,
   "id": "ce4ab6a4",
   "metadata": {},
   "outputs": [],
   "source": [
    "md = nl.corpus.gutenberg.words(\"melville-moby_dick.txt\")"
   ]
  },
  {
   "cell_type": "code",
   "execution_count": 16,
   "id": "2195a94b",
   "metadata": {},
   "outputs": [
    {
     "data": {
      "text/plain": [
       "906"
      ]
     },
     "execution_count": 16,
     "metadata": {},
     "output_type": "execute_result"
    }
   ],
   "source": [
    "md.count(\"whale\")"
   ]
  },
  {
   "cell_type": "code",
   "execution_count": 17,
   "id": "02a471ea",
   "metadata": {},
   "outputs": [],
   "source": [
    "md_set = set(md)"
   ]
  },
  {
   "cell_type": "code",
   "execution_count": 18,
   "id": "c89cfd10",
   "metadata": {},
   "outputs": [
    {
     "data": {
      "text/plain": [
       "19317"
      ]
     },
     "execution_count": 18,
     "metadata": {},
     "output_type": "execute_result"
    }
   ],
   "source": [
    "len(md_set)"
   ]
  },
  {
   "cell_type": "code",
   "execution_count": 19,
   "id": "5b8aa86d",
   "metadata": {},
   "outputs": [],
   "source": [
    "md_sentences = nl.corpus.gutenberg.sents(\"melville-moby_dick.txt\")"
   ]
  },
  {
   "cell_type": "code",
   "execution_count": 21,
   "id": "562caad3",
   "metadata": {},
   "outputs": [
    {
     "data": {
      "text/plain": [
       "10059"
      ]
     },
     "execution_count": 21,
     "metadata": {},
     "output_type": "execute_result"
    }
   ],
   "source": [
    "len(md_sentences)"
   ]
  },
  {
   "cell_type": "code",
   "execution_count": null,
   "id": "30587244",
   "metadata": {},
   "outputs": [],
   "source": []
  }
 ],
 "metadata": {
  "kernelspec": {
   "display_name": "Python 3 (ipykernel)",
   "language": "python",
   "name": "python3"
  },
  "language_info": {
   "codemirror_mode": {
    "name": "ipython",
    "version": 3
   },
   "file_extension": ".py",
   "mimetype": "text/x-python",
   "name": "python",
   "nbconvert_exporter": "python",
   "pygments_lexer": "ipython3",
   "version": "3.9.7"
  }
 },
 "nbformat": 4,
 "nbformat_minor": 5
}
